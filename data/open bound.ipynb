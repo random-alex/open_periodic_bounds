{
 "cells": [
  {
   "cell_type": "code",
   "execution_count": 1,
   "metadata": {
    "collapsed": true
   },
   "outputs": [],
   "source": [
    "import pyalps\n",
    "import matplotlib.pyplot as plt\n",
    "#import pyalps.pyplot\n",
    "import numpy as np\n",
    "import pyalps.fit_wrapper as fw\n",
    "from math import sqrt\n",
    "\n",
    "\n"
   ]
  },
  {
   "cell_type": "code",
   "execution_count": 3,
   "metadata": {
    "collapsed": true
   },
   "outputs": [],
   "source": [
    "#prepare the input parameters\n",
    "parms = []\n",
    "#leng = np.linspace(8,20,6).tolist()\n",
    "\n",
    "dd = np.linspace(0.15,0.7,5).tolist()\n",
    "#dd = [0.2]\n",
    "for l in [10,14,18]:\n",
    "    for t in dd:\n",
    "        parms.append(\n",
    "            { \n",
    "          'LATTICE'                   : \"open square lattice\", \n",
    "          'MODEL'                     : \"spin\",\n",
    "          'MEASURE[Correlations]'     : False,\n",
    "          'MEASURE[Structure Factor]' : False, \n",
    "          #    'LATTICE_LIBRARY'      : 'lattices.xml',\n",
    "          #   'MODEL_LIBRARY'         : 'models.xml',\n",
    "          'local_S'                   : 0.5,\n",
    "          #   'ALGORITHM'             : 'loop',\n",
    "          'T'                         : t,\n",
    "          'J'                         : 1 ,#antiferromagnetic state\n",
    "          'THERMALIZATION'            : 8000,\n",
    "          'SWEEPS'                    : 60000,\n",
    "          'L'                         : l,#size of lattice\n",
    "          'h'                         : 0,#magnetic field in z direction\n",
    "          'SEED'                      : 0\n",
    "            }\n",
    "            )\n"
   ]
  },
  {
   "cell_type": "code",
   "execution_count": 4,
   "metadata": {
    "collapsed": true
   },
   "outputs": [],
   "source": [
    "#write the input file and run the simulation\n",
    "name = 'parm_open_bound' \n",
    "input_file = pyalps.writeInputFiles(name,parms)"
   ]
  },
  {
   "cell_type": "code",
   "execution_count": 5,
   "metadata": {
    "scrolled": false
   },
   "outputs": [
    {
     "name": "stdout",
     "output_type": "stream",
     "text": [
      "dirloop_sse parm_open_bound.in.xml --write-xml\n"
     ]
    }
   ],
   "source": [
    "res = pyalps.runApplication('dirloop_sse',input_file, writexml= True)"
   ]
  },
  {
   "cell_type": "code",
   "execution_count": null,
   "metadata": {
    "collapsed": true
   },
   "outputs": [],
   "source": []
  }
 ],
 "metadata": {
  "kernelspec": {
   "display_name": "Python 2",
   "language": "python",
   "name": "python2"
  },
  "language_info": {
   "codemirror_mode": {
    "name": "ipython",
    "version": 2
   },
   "file_extension": ".py",
   "mimetype": "text/x-python",
   "name": "python",
   "nbconvert_exporter": "python",
   "pygments_lexer": "ipython2",
   "version": "2.7.14"
  }
 },
 "nbformat": 4,
 "nbformat_minor": 2
}
